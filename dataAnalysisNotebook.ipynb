{
 "cells": [
  {
   "cell_type": "code",
   "execution_count": 1,
   "metadata": {
    "collapsed": true
   },
   "outputs": [],
   "source": [
    "import pandas as pd"
   ]
  },
  {
   "cell_type": "code",
   "execution_count": 2,
   "metadata": {},
   "outputs": [
    {
     "name": "stderr",
     "output_type": "stream",
     "text": [
      "/Users/ketankokane/anaconda3/lib/python3.6/site-packages/IPython/core/interactiveshell.py:2698: DtypeWarning: Columns (5) have mixed types. Specify dtype option on import or set low_memory=False.\n",
      "  interactivity=interactivity, compiler=compiler, result=result)\n"
     ]
    }
   ],
   "source": [
    "data = pd.read_csv('title.basics.tsv',sep='\\t')"
   ]
  },
  {
   "cell_type": "code",
   "execution_count": 3,
   "metadata": {},
   "outputs": [
    {
     "name": "stdout",
     "output_type": "stream",
     "text": [
      "<class 'pandas.core.frame.DataFrame'>\n",
      "RangeIndex: 5631729 entries, 0 to 5631728\n",
      "Data columns (total 9 columns):\n",
      "tconst            object\n",
      "titleType         object\n",
      "primaryTitle      object\n",
      "originalTitle     object\n",
      "isAdult           int64\n",
      "startYear         object\n",
      "endYear           object\n",
      "runtimeMinutes    object\n",
      "genres            object\n",
      "dtypes: int64(1), object(8)\n",
      "memory usage: 386.7+ MB\n"
     ]
    }
   ],
   "source": [
    "data.info()"
   ]
  },
  {
   "cell_type": "markdown",
   "metadata": {},
   "source": [
    "what is the title basic tsv is about?\n",
    "has 5631729 entries i.e 5.6 million entries of ?\n",
    "relationship with genres is 1 : many\n"
   ]
  },
  {
   "cell_type": "code",
   "execution_count": 108,
   "metadata": {
    "collapsed": true
   },
   "outputs": [],
   "source": [
    "titles = data"
   ]
  },
  {
   "cell_type": "code",
   "execution_count": 109,
   "metadata": {},
   "outputs": [
    {
     "data": {
      "text/html": [
       "<div>\n",
       "<style>\n",
       "    .dataframe thead tr:only-child th {\n",
       "        text-align: right;\n",
       "    }\n",
       "\n",
       "    .dataframe thead th {\n",
       "        text-align: left;\n",
       "    }\n",
       "\n",
       "    .dataframe tbody tr th {\n",
       "        vertical-align: top;\n",
       "    }\n",
       "</style>\n",
       "<table border=\"1\" class=\"dataframe\">\n",
       "  <thead>\n",
       "    <tr style=\"text-align: right;\">\n",
       "      <th></th>\n",
       "      <th>tconst</th>\n",
       "      <th>titleType</th>\n",
       "      <th>primaryTitle</th>\n",
       "      <th>originalTitle</th>\n",
       "      <th>isAdult</th>\n",
       "      <th>startYear</th>\n",
       "      <th>endYear</th>\n",
       "      <th>runtimeMinutes</th>\n",
       "      <th>genres</th>\n",
       "    </tr>\n",
       "  </thead>\n",
       "  <tbody>\n",
       "    <tr>\n",
       "      <th>0</th>\n",
       "      <td>tt0000001</td>\n",
       "      <td>short</td>\n",
       "      <td>Carmencita</td>\n",
       "      <td>Carmencita</td>\n",
       "      <td>0</td>\n",
       "      <td>1894</td>\n",
       "      <td>\\N</td>\n",
       "      <td>1</td>\n",
       "      <td>Documentary,Short</td>\n",
       "    </tr>\n",
       "    <tr>\n",
       "      <th>1</th>\n",
       "      <td>tt0000002</td>\n",
       "      <td>short</td>\n",
       "      <td>Le clown et ses chiens</td>\n",
       "      <td>Le clown et ses chiens</td>\n",
       "      <td>0</td>\n",
       "      <td>1892</td>\n",
       "      <td>\\N</td>\n",
       "      <td>5</td>\n",
       "      <td>Animation,Short</td>\n",
       "    </tr>\n",
       "    <tr>\n",
       "      <th>2</th>\n",
       "      <td>tt0000003</td>\n",
       "      <td>short</td>\n",
       "      <td>Pauvre Pierrot</td>\n",
       "      <td>Pauvre Pierrot</td>\n",
       "      <td>0</td>\n",
       "      <td>1892</td>\n",
       "      <td>\\N</td>\n",
       "      <td>4</td>\n",
       "      <td>Animation,Comedy,Romance</td>\n",
       "    </tr>\n",
       "    <tr>\n",
       "      <th>3</th>\n",
       "      <td>tt0000004</td>\n",
       "      <td>short</td>\n",
       "      <td>Un bon bock</td>\n",
       "      <td>Un bon bock</td>\n",
       "      <td>0</td>\n",
       "      <td>1892</td>\n",
       "      <td>\\N</td>\n",
       "      <td>\\N</td>\n",
       "      <td>Animation,Short</td>\n",
       "    </tr>\n",
       "    <tr>\n",
       "      <th>4</th>\n",
       "      <td>tt0000005</td>\n",
       "      <td>short</td>\n",
       "      <td>Blacksmith Scene</td>\n",
       "      <td>Blacksmith Scene</td>\n",
       "      <td>0</td>\n",
       "      <td>1893</td>\n",
       "      <td>\\N</td>\n",
       "      <td>1</td>\n",
       "      <td>Comedy,Short</td>\n",
       "    </tr>\n",
       "  </tbody>\n",
       "</table>\n",
       "</div>"
      ],
      "text/plain": [
       "      tconst titleType            primaryTitle           originalTitle  \\\n",
       "0  tt0000001     short              Carmencita              Carmencita   \n",
       "1  tt0000002     short  Le clown et ses chiens  Le clown et ses chiens   \n",
       "2  tt0000003     short          Pauvre Pierrot          Pauvre Pierrot   \n",
       "3  tt0000004     short             Un bon bock             Un bon bock   \n",
       "4  tt0000005     short        Blacksmith Scene        Blacksmith Scene   \n",
       "\n",
       "   isAdult startYear endYear runtimeMinutes                    genres  \n",
       "0        0      1894      \\N              1         Documentary,Short  \n",
       "1        0      1892      \\N              5           Animation,Short  \n",
       "2        0      1892      \\N              4  Animation,Comedy,Romance  \n",
       "3        0      1892      \\N             \\N           Animation,Short  \n",
       "4        0      1893      \\N              1              Comedy,Short  "
      ]
     },
     "execution_count": 109,
     "metadata": {},
     "output_type": "execute_result"
    }
   ],
   "source": [
    "titles.head()"
   ]
  },
  {
   "cell_type": "code",
   "execution_count": 19,
   "metadata": {},
   "outputs": [
    {
     "data": {
      "text/plain": [
       "2931498"
      ]
     },
     "execution_count": 19,
     "metadata": {},
     "output_type": "execute_result"
    }
   ],
   "source": [
    "titles['originalTitle'].nunique()"
   ]
  },
  {
   "cell_type": "code",
   "execution_count": 14,
   "metadata": {},
   "outputs": [
    {
     "data": {
      "text/plain": [
       "array(['short', 'movie', 'tvMovie', 'tvSeries', 'tvEpisode', 'tvShort',\n",
       "       'tvMiniSeries', 'tvSpecial', 'video', 'videoGame'], dtype=object)"
      ]
     },
     "execution_count": 14,
     "metadata": {},
     "output_type": "execute_result"
    }
   ],
   "source": [
    "titles['titleType'].unique()"
   ]
  },
  {
   "cell_type": "code",
   "execution_count": 9,
   "metadata": {},
   "outputs": [
    {
     "data": {
      "text/plain": [
       "5631729"
      ]
     },
     "execution_count": 9,
     "metadata": {},
     "output_type": "execute_result"
    }
   ],
   "source": [
    "titles['tconst'].nunique()"
   ]
  },
  {
   "cell_type": "code",
   "execution_count": 17,
   "metadata": {},
   "outputs": [
    {
     "data": {
      "text/plain": [
       "0           Documentary,Short\n",
       "1             Animation,Short\n",
       "2    Animation,Comedy,Romance\n",
       "3             Animation,Short\n",
       "4                Comedy,Short\n",
       "Name: genres, dtype: object"
      ]
     },
     "execution_count": 17,
     "metadata": {},
     "output_type": "execute_result"
    }
   ],
   "source": [
    "titles['genres'].unique()\n",
    "titles['genres'].head()"
   ]
  },
  {
   "cell_type": "code",
   "execution_count": 110,
   "metadata": {},
   "outputs": [
    {
     "data": {
      "text/plain": [
       "tvEpisode       3874830\n",
       "short            665570\n",
       "movie            510690\n",
       "video            222234\n",
       "tvSeries         159635\n",
       "tvMovie          125774\n",
       "tvMiniSeries      24791\n",
       "videoGame         22915\n",
       "tvSpecial         16250\n",
       "tvShort            9040\n",
       "Name: titleType, dtype: int64"
      ]
     },
     "execution_count": 110,
     "metadata": {},
     "output_type": "execute_result"
    }
   ],
   "source": [
    "titles['titleType'].value_counts()"
   ]
  },
  {
   "cell_type": "code",
   "execution_count": null,
   "metadata": {
    "collapsed": true
   },
   "outputs": [],
   "source": []
  },
  {
   "cell_type": "code",
   "execution_count": 114,
   "metadata": {},
   "outputs": [],
   "source": [
    "data1 = pd.read_csv('name.basics.tsv',sep='\\t')"
   ]
  },
  {
   "cell_type": "markdown",
   "metadata": {},
   "source": [
    "has 32 million entries"
   ]
  },
  {
   "cell_type": "code",
   "execution_count": 115,
   "metadata": {
    "collapsed": true
   },
   "outputs": [],
   "source": [
    "peopleWhoWorkInMovies = data1"
   ]
  },
  {
   "cell_type": "code",
   "execution_count": 119,
   "metadata": {},
   "outputs": [
    {
     "name": "stdout",
     "output_type": "stream",
     "text": [
      "<class 'pandas.core.frame.DataFrame'>\n",
      "RangeIndex: 9206045 entries, 0 to 9206044\n",
      "Data columns (total 6 columns):\n",
      "nconst               object\n",
      "primaryName          object\n",
      "birthYear            object\n",
      "deathYear            object\n",
      "primaryProfession    object\n",
      "knownForTitles       object\n",
      "dtypes: object(6)\n",
      "memory usage: 421.4+ MB\n"
     ]
    }
   ],
   "source": [
    "peopleWhoWorkInMovies.info()"
   ]
  },
  {
   "cell_type": "code",
   "execution_count": 121,
   "metadata": {},
   "outputs": [
    {
     "data": {
      "text/plain": [
       "\\N      8730452\n",
       "1980       8226\n",
       "1979       8130\n",
       "1978       8116\n",
       "1981       8008\n",
       "1982       7804\n",
       "1977       7587\n",
       "1976       7580\n",
       "1983       7312\n",
       "1975       7291\n",
       "1974       7178\n",
       "1984       7158\n",
       "1970       7096\n",
       "1971       6994\n",
       "1972       6933\n",
       "1973       6801\n",
       "1985       6743\n",
       "1986       6636\n",
       "1969       6515\n",
       "1968       6099\n",
       "1967       5798\n",
       "1965       5771\n",
       "1987       5767\n",
       "1964       5743\n",
       "1966       5643\n",
       "1963       5467\n",
       "1988       5410\n",
       "1962       5401\n",
       "1961       5146\n",
       "1947       5053\n",
       "         ...   \n",
       "0163          1\n",
       "1413          1\n",
       "1644          1\n",
       "0770          1\n",
       "1291          1\n",
       "1733          1\n",
       "1625          1\n",
       "1597          1\n",
       "1745          1\n",
       "1677          1\n",
       "1648          1\n",
       "1631          1\n",
       "1569          1\n",
       "1765          1\n",
       "1265          1\n",
       "1468          1\n",
       "1515          1\n",
       "1562          1\n",
       "1414          1\n",
       "1532          1\n",
       "1314          1\n",
       "1586          1\n",
       "1754          1\n",
       "1207          1\n",
       "1600          1\n",
       "1752          1\n",
       "0037          1\n",
       "1415          1\n",
       "0021          1\n",
       "1681          1\n",
       "Name: birthYear, Length: 473, dtype: int64"
      ]
     },
     "execution_count": 121,
     "metadata": {},
     "output_type": "execute_result"
    }
   ],
   "source": [
    "peopleWhoWorkInMovies.birthYear.value_counts()"
   ]
  },
  {
   "cell_type": "code",
   "execution_count": 118,
   "metadata": {},
   "outputs": [],
   "source": [
    "data1 = pd.read_csv('title.principals.tsv',sep='\\t')"
   ]
  },
  {
   "cell_type": "code",
   "execution_count": 122,
   "metadata": {
    "collapsed": true
   },
   "outputs": [],
   "source": [
    "principal = data1"
   ]
  },
  {
   "cell_type": "code",
   "execution_count": 123,
   "metadata": {},
   "outputs": [
    {
     "data": {
      "text/html": [
       "<div>\n",
       "<style>\n",
       "    .dataframe thead tr:only-child th {\n",
       "        text-align: right;\n",
       "    }\n",
       "\n",
       "    .dataframe thead th {\n",
       "        text-align: left;\n",
       "    }\n",
       "\n",
       "    .dataframe tbody tr th {\n",
       "        vertical-align: top;\n",
       "    }\n",
       "</style>\n",
       "<table border=\"1\" class=\"dataframe\">\n",
       "  <thead>\n",
       "    <tr style=\"text-align: right;\">\n",
       "      <th></th>\n",
       "      <th>tconst</th>\n",
       "      <th>ordering</th>\n",
       "      <th>nconst</th>\n",
       "      <th>category</th>\n",
       "      <th>job</th>\n",
       "      <th>characters</th>\n",
       "    </tr>\n",
       "  </thead>\n",
       "  <tbody>\n",
       "    <tr>\n",
       "      <th>0</th>\n",
       "      <td>tt0000001</td>\n",
       "      <td>1</td>\n",
       "      <td>nm1588970</td>\n",
       "      <td>self</td>\n",
       "      <td>\\N</td>\n",
       "      <td>[\"Herself\"]</td>\n",
       "    </tr>\n",
       "    <tr>\n",
       "      <th>1</th>\n",
       "      <td>tt0000001</td>\n",
       "      <td>2</td>\n",
       "      <td>nm0005690</td>\n",
       "      <td>director</td>\n",
       "      <td>\\N</td>\n",
       "      <td>\\N</td>\n",
       "    </tr>\n",
       "    <tr>\n",
       "      <th>2</th>\n",
       "      <td>tt0000001</td>\n",
       "      <td>3</td>\n",
       "      <td>nm0374658</td>\n",
       "      <td>cinematographer</td>\n",
       "      <td>director of photography</td>\n",
       "      <td>\\N</td>\n",
       "    </tr>\n",
       "    <tr>\n",
       "      <th>3</th>\n",
       "      <td>tt0000002</td>\n",
       "      <td>1</td>\n",
       "      <td>nm0721526</td>\n",
       "      <td>director</td>\n",
       "      <td>\\N</td>\n",
       "      <td>\\N</td>\n",
       "    </tr>\n",
       "    <tr>\n",
       "      <th>4</th>\n",
       "      <td>tt0000002</td>\n",
       "      <td>2</td>\n",
       "      <td>nm1335271</td>\n",
       "      <td>composer</td>\n",
       "      <td>\\N</td>\n",
       "      <td>\\N</td>\n",
       "    </tr>\n",
       "  </tbody>\n",
       "</table>\n",
       "</div>"
      ],
      "text/plain": [
       "      tconst  ordering     nconst         category                      job  \\\n",
       "0  tt0000001         1  nm1588970             self                       \\N   \n",
       "1  tt0000001         2  nm0005690         director                       \\N   \n",
       "2  tt0000001         3  nm0374658  cinematographer  director of photography   \n",
       "3  tt0000002         1  nm0721526         director                       \\N   \n",
       "4  tt0000002         2  nm1335271         composer                       \\N   \n",
       "\n",
       "    characters  \n",
       "0  [\"Herself\"]  \n",
       "1           \\N  \n",
       "2           \\N  \n",
       "3           \\N  \n",
       "4           \\N  "
      ]
     },
     "execution_count": 123,
     "metadata": {},
     "output_type": "execute_result"
    }
   ],
   "source": [
    "principal.head()"
   ]
  },
  {
   "cell_type": "code",
   "execution_count": 129,
   "metadata": {},
   "outputs": [
    {
     "data": {
      "text/plain": [
       "array([10,  9,  8,  7,  6,  5,  4,  3,  2,  1])"
      ]
     },
     "execution_count": 129,
     "metadata": {},
     "output_type": "execute_result"
    }
   ],
   "source": [
    "principal.tconst.value_counts(ascending=False).unique()"
   ]
  },
  {
   "cell_type": "code",
   "execution_count": 136,
   "metadata": {},
   "outputs": [
    {
     "data": {
      "text/plain": [
       "\\N                                                     26918368\n",
       "producer                                                1876783\n",
       "writer                                                   693415\n",
       "creator                                                  496450\n",
       "written by                                               336796\n",
       "story                                                    159174\n",
       "director of photography                                  143642\n",
       "screenplay                                               136989\n",
       "head writer                                               95814\n",
       "adaptation                                                83734\n",
       "co-director                                               71186\n",
       "novel                                                     42195\n",
       "teleplay                                                  41150\n",
       "series director                                           37010\n",
       "dialogue                                                  36625\n",
       "script                                                    36263\n",
       "story editor                                              36018\n",
       "executive producer                                        34483\n",
       "idea                                                      26163\n",
       "staff writer                                              25770\n",
       "co-writer                                                 25319\n",
       "co-creator                                                23168\n",
       "original idea                                             22647\n",
       "original story                                            22188\n",
       "composer                                                  21780\n",
       "play                                                      18136\n",
       "scenario                                                  17945\n",
       "associate head writer                                     16100\n",
       "manga                                                     15696\n",
       "co-head writer                                            13978\n",
       "                                                         ...   \n",
       "play \"Squadrons\"                                              1\n",
       "play \"Suor Teresa\"                                            1\n",
       "opera La muette de Portici                                    1\n",
       "play \"Wild horses\"                                            1\n",
       "short story \"Foreign Nights\"                                  1\n",
       "novel \"The Law at Randado\"                                    1\n",
       "narration Fin de fiesta                                       1\n",
       "post production                                               1\n",
       "musical comedy \"Kammermusik\"                                  1\n",
       "Catalan translations                                          1\n",
       "novel: Pessi ja Illusia                                       1\n",
       "from the novel: Ways and Means                                1\n",
       "book \"Christmas in Calico\"                                    1\n",
       "novel \"Die Damalstür\"                                         1\n",
       "novel \"Cappy Ricks Returns\"                                   1\n",
       "director: Royal Dreams                                        1\n",
       "based upon the original television series by                  1\n",
       "director: Monsters, Unicorns and 'Femmes Fatales'             1\n",
       "Roadkill written by                                           1\n",
       "dialogue and adaptation into Old French                       1\n",
       "character Tinieblas el Gigante                                1\n",
       "novel: \"Maigret, Lognon et les gangsters\"                     1\n",
       "novel \"Hipoteza\"                                              1\n",
       "novel \"Glatteis\"                                              1\n",
       "story \"Special Arrangements\"                                  1\n",
       "play \"Änkeman Jarl\"                                           1\n",
       "story \"Romantic Young Lady\"                                   1\n",
       "story: The Professional Adventures of the Grey Seal           1\n",
       "novel \"Mein Freund Oscar\"                                     1\n",
       "short story \"Todo un conflicto de sangre\"                     1\n",
       "Name: job, Length: 30835, dtype: int64"
      ]
     },
     "execution_count": 136,
     "metadata": {},
     "output_type": "execute_result"
    }
   ],
   "source": [
    "principal.job.value_counts(ascending=False)"
   ]
  },
  {
   "cell_type": "code",
   "execution_count": null,
   "metadata": {
    "collapsed": true
   },
   "outputs": [],
   "source": []
  },
  {
   "cell_type": "code",
   "execution_count": 130,
   "metadata": {},
   "outputs": [
    {
     "data": {
      "text/plain": [
       "actor                  7668975\n",
       "actress                5560782\n",
       "self                   5495951\n",
       "writer                 4100995\n",
       "director               3611035\n",
       "producer               1918242\n",
       "composer               1187555\n",
       "cinematographer        1154846\n",
       "editor                 1078652\n",
       "production_designer     261679\n",
       "archive_footage         187035\n",
       "archive_sound             1949\n",
       "Name: category, dtype: int64"
      ]
     },
     "execution_count": 130,
     "metadata": {},
     "output_type": "execute_result"
    }
   ],
   "source": [
    "principal.categorytegory.value_counts(ascending=False)"
   ]
  },
  {
   "cell_type": "code",
   "execution_count": 26,
   "metadata": {},
   "outputs": [
    {
     "data": {
      "text/plain": [
       "array(['self', 'director', 'cinematographer', 'composer', 'producer',\n",
       "       'editor', 'actor', 'actress', 'writer', 'production_designer',\n",
       "       'archive_footage', 'archive_sound'], dtype=object)"
      ]
     },
     "execution_count": 26,
     "metadata": {},
     "output_type": "execute_result"
    }
   ],
   "source": [
    "principal['category'].unique()"
   ]
  },
  {
   "cell_type": "code",
   "execution_count": 29,
   "metadata": {},
   "outputs": [
    {
     "data": {
      "text/plain": [
       "array(['[\"Herself\"]', '\\\\N', '[\"Blacksmith\"]', ..., '[\"Andy Westfall\"]',\n",
       "       '[\"Yirga\"]', '[\"Mike van Loo\"]'], dtype=object)"
      ]
     },
     "execution_count": 29,
     "metadata": {},
     "output_type": "execute_result"
    }
   ],
   "source": [
    "principal['characters'].unique()"
   ]
  },
  {
   "cell_type": "markdown",
   "metadata": {},
   "source": [
    "shows for a movie the nconst has played what character in the movie"
   ]
  },
  {
   "cell_type": "code",
   "execution_count": 30,
   "metadata": {},
   "outputs": [
    {
     "data": {
      "text/plain": [
       "5047848"
      ]
     },
     "execution_count": 30,
     "metadata": {},
     "output_type": "execute_result"
    }
   ],
   "source": [
    "principal['tconst'].nunique()"
   ]
  },
  {
   "cell_type": "code",
   "execution_count": 37,
   "metadata": {
    "collapsed": true
   },
   "outputs": [],
   "source": [
    "data1 = pd.read_csv('title.crew.tsv',sep='\\t')"
   ]
  },
  {
   "cell_type": "code",
   "execution_count": 38,
   "metadata": {
    "collapsed": true
   },
   "outputs": [],
   "source": [
    "crew = data1"
   ]
  },
  {
   "cell_type": "code",
   "execution_count": 39,
   "metadata": {},
   "outputs": [
    {
     "name": "stdout",
     "output_type": "stream",
     "text": [
      "<class 'pandas.core.frame.DataFrame'>\n",
      "RangeIndex: 5723534 entries, 0 to 5723533\n",
      "Data columns (total 3 columns):\n",
      "tconst       object\n",
      "directors    object\n",
      "writers      object\n",
      "dtypes: object(3)\n",
      "memory usage: 131.0+ MB\n"
     ]
    }
   ],
   "source": [
    "crew.info()"
   ]
  },
  {
   "cell_type": "code",
   "execution_count": 100,
   "metadata": {},
   "outputs": [
    {
     "data": {
      "text/html": [
       "<div>\n",
       "<style>\n",
       "    .dataframe thead tr:only-child th {\n",
       "        text-align: right;\n",
       "    }\n",
       "\n",
       "    .dataframe thead th {\n",
       "        text-align: left;\n",
       "    }\n",
       "\n",
       "    .dataframe tbody tr th {\n",
       "        vertical-align: top;\n",
       "    }\n",
       "</style>\n",
       "<table border=\"1\" class=\"dataframe\">\n",
       "  <thead>\n",
       "    <tr style=\"text-align: right;\">\n",
       "      <th></th>\n",
       "      <th>tconst</th>\n",
       "      <th>directors</th>\n",
       "      <th>writers</th>\n",
       "    </tr>\n",
       "  </thead>\n",
       "  <tbody>\n",
       "    <tr>\n",
       "      <th>0</th>\n",
       "      <td>tt0000001</td>\n",
       "      <td>nm0005690</td>\n",
       "      <td>\\N</td>\n",
       "    </tr>\n",
       "    <tr>\n",
       "      <th>1</th>\n",
       "      <td>tt0000002</td>\n",
       "      <td>nm0721526</td>\n",
       "      <td>\\N</td>\n",
       "    </tr>\n",
       "    <tr>\n",
       "      <th>2</th>\n",
       "      <td>tt0000003</td>\n",
       "      <td>nm0721526</td>\n",
       "      <td>\\N</td>\n",
       "    </tr>\n",
       "    <tr>\n",
       "      <th>3</th>\n",
       "      <td>tt0000004</td>\n",
       "      <td>nm0721526</td>\n",
       "      <td>\\N</td>\n",
       "    </tr>\n",
       "    <tr>\n",
       "      <th>4</th>\n",
       "      <td>tt0000005</td>\n",
       "      <td>nm0005690</td>\n",
       "      <td>\\N</td>\n",
       "    </tr>\n",
       "  </tbody>\n",
       "</table>\n",
       "</div>"
      ],
      "text/plain": [
       "      tconst  directors writers\n",
       "0  tt0000001  nm0005690      \\N\n",
       "1  tt0000002  nm0721526      \\N\n",
       "2  tt0000003  nm0721526      \\N\n",
       "3  tt0000004  nm0721526      \\N\n",
       "4  tt0000005  nm0005690      \\N"
      ]
     },
     "execution_count": 100,
     "metadata": {},
     "output_type": "execute_result"
    }
   ],
   "source": [
    "crew.head()"
   ]
  },
  {
   "cell_type": "code",
   "execution_count": 41,
   "metadata": {
    "collapsed": true
   },
   "outputs": [],
   "source": [
    "data1 = pd.read_csv('title.ratings.tsv',sep='\\t')"
   ]
  },
  {
   "cell_type": "code",
   "execution_count": 42,
   "metadata": {
    "collapsed": true
   },
   "outputs": [],
   "source": [
    "ratings = data1"
   ]
  },
  {
   "cell_type": "code",
   "execution_count": 43,
   "metadata": {},
   "outputs": [
    {
     "name": "stdout",
     "output_type": "stream",
     "text": [
      "<class 'pandas.core.frame.DataFrame'>\n",
      "RangeIndex: 917181 entries, 0 to 917180\n",
      "Data columns (total 3 columns):\n",
      "tconst           917181 non-null object\n",
      "averageRating    917181 non-null float64\n",
      "numVotes         917181 non-null int64\n",
      "dtypes: float64(1), int64(1), object(1)\n",
      "memory usage: 21.0+ MB\n"
     ]
    }
   ],
   "source": [
    "ratings.info()"
   ]
  },
  {
   "cell_type": "code",
   "execution_count": 44,
   "metadata": {},
   "outputs": [
    {
     "data": {
      "text/html": [
       "<div>\n",
       "<style>\n",
       "    .dataframe thead tr:only-child th {\n",
       "        text-align: right;\n",
       "    }\n",
       "\n",
       "    .dataframe thead th {\n",
       "        text-align: left;\n",
       "    }\n",
       "\n",
       "    .dataframe tbody tr th {\n",
       "        vertical-align: top;\n",
       "    }\n",
       "</style>\n",
       "<table border=\"1\" class=\"dataframe\">\n",
       "  <thead>\n",
       "    <tr style=\"text-align: right;\">\n",
       "      <th></th>\n",
       "      <th>tconst</th>\n",
       "      <th>averageRating</th>\n",
       "      <th>numVotes</th>\n",
       "    </tr>\n",
       "  </thead>\n",
       "  <tbody>\n",
       "    <tr>\n",
       "      <th>0</th>\n",
       "      <td>tt0000001</td>\n",
       "      <td>5.8</td>\n",
       "      <td>1478</td>\n",
       "    </tr>\n",
       "    <tr>\n",
       "      <th>1</th>\n",
       "      <td>tt0000002</td>\n",
       "      <td>6.4</td>\n",
       "      <td>176</td>\n",
       "    </tr>\n",
       "    <tr>\n",
       "      <th>2</th>\n",
       "      <td>tt0000003</td>\n",
       "      <td>6.6</td>\n",
       "      <td>1108</td>\n",
       "    </tr>\n",
       "    <tr>\n",
       "      <th>3</th>\n",
       "      <td>tt0000004</td>\n",
       "      <td>6.4</td>\n",
       "      <td>107</td>\n",
       "    </tr>\n",
       "    <tr>\n",
       "      <th>4</th>\n",
       "      <td>tt0000005</td>\n",
       "      <td>6.2</td>\n",
       "      <td>1813</td>\n",
       "    </tr>\n",
       "  </tbody>\n",
       "</table>\n",
       "</div>"
      ],
      "text/plain": [
       "      tconst  averageRating  numVotes\n",
       "0  tt0000001            5.8      1478\n",
       "1  tt0000002            6.4       176\n",
       "2  tt0000003            6.6      1108\n",
       "3  tt0000004            6.4       107\n",
       "4  tt0000005            6.2      1813"
      ]
     },
     "execution_count": 44,
     "metadata": {},
     "output_type": "execute_result"
    }
   ],
   "source": [
    "ratings.head()"
   ]
  },
  {
   "cell_type": "code",
   "execution_count": 45,
   "metadata": {},
   "outputs": [
    {
     "data": {
      "text/html": [
       "<div>\n",
       "<style>\n",
       "    .dataframe thead tr:only-child th {\n",
       "        text-align: right;\n",
       "    }\n",
       "\n",
       "    .dataframe thead th {\n",
       "        text-align: left;\n",
       "    }\n",
       "\n",
       "    .dataframe tbody tr th {\n",
       "        vertical-align: top;\n",
       "    }\n",
       "</style>\n",
       "<table border=\"1\" class=\"dataframe\">\n",
       "  <thead>\n",
       "    <tr style=\"text-align: right;\">\n",
       "      <th></th>\n",
       "      <th>averageRating</th>\n",
       "      <th>numVotes</th>\n",
       "    </tr>\n",
       "  </thead>\n",
       "  <tbody>\n",
       "    <tr>\n",
       "      <th>count</th>\n",
       "      <td>917181.000000</td>\n",
       "      <td>9.171810e+05</td>\n",
       "    </tr>\n",
       "    <tr>\n",
       "      <th>mean</th>\n",
       "      <td>6.918489</td>\n",
       "      <td>9.705193e+02</td>\n",
       "    </tr>\n",
       "    <tr>\n",
       "      <th>std</th>\n",
       "      <td>1.401053</td>\n",
       "      <td>1.553299e+04</td>\n",
       "    </tr>\n",
       "    <tr>\n",
       "      <th>min</th>\n",
       "      <td>1.000000</td>\n",
       "      <td>5.000000e+00</td>\n",
       "    </tr>\n",
       "    <tr>\n",
       "      <th>25%</th>\n",
       "      <td>6.200000</td>\n",
       "      <td>9.000000e+00</td>\n",
       "    </tr>\n",
       "    <tr>\n",
       "      <th>50%</th>\n",
       "      <td>7.100000</td>\n",
       "      <td>2.000000e+01</td>\n",
       "    </tr>\n",
       "    <tr>\n",
       "      <th>75%</th>\n",
       "      <td>7.900000</td>\n",
       "      <td>7.700000e+01</td>\n",
       "    </tr>\n",
       "    <tr>\n",
       "      <th>max</th>\n",
       "      <td>10.000000</td>\n",
       "      <td>2.064369e+06</td>\n",
       "    </tr>\n",
       "  </tbody>\n",
       "</table>\n",
       "</div>"
      ],
      "text/plain": [
       "       averageRating      numVotes\n",
       "count  917181.000000  9.171810e+05\n",
       "mean        6.918489  9.705193e+02\n",
       "std         1.401053  1.553299e+04\n",
       "min         1.000000  5.000000e+00\n",
       "25%         6.200000  9.000000e+00\n",
       "50%         7.100000  2.000000e+01\n",
       "75%         7.900000  7.700000e+01\n",
       "max        10.000000  2.064369e+06"
      ]
     },
     "execution_count": 45,
     "metadata": {},
     "output_type": "execute_result"
    }
   ],
   "source": [
    "ratings.describe()"
   ]
  },
  {
   "cell_type": "code",
   "execution_count": 93,
   "metadata": {},
   "outputs": [
    {
     "name": "stderr",
     "output_type": "stream",
     "text": [
      "/Users/ketankokane/anaconda3/lib/python3.6/site-packages/IPython/core/interactiveshell.py:2698: DtypeWarning: Columns (7) have mixed types. Specify dtype option on import or set low_memory=False.\n",
      "  interactivity=interactivity, compiler=compiler, result=result)\n"
     ]
    }
   ],
   "source": [
    "\n",
    "data1 = pd.read_csv('title.akas.tsv',sep='\\t')"
   ]
  },
  {
   "cell_type": "code",
   "execution_count": 94,
   "metadata": {
    "collapsed": true
   },
   "outputs": [],
   "source": [
    "alsoKnownAs = data1"
   ]
  },
  {
   "cell_type": "code",
   "execution_count": 132,
   "metadata": {},
   "outputs": [
    {
     "data": {
      "text/plain": [
       "tt8185052    129\n",
       "tt0168366    115\n",
       "tt8052676     88\n",
       "tt0076759     79\n",
       "tt8232202     78\n",
       "tt8187756     77\n",
       "tt0060196     73\n",
       "tt0057012     68\n",
       "tt0080684     67\n",
       "tt0029583     64\n",
       "tt0088247     63\n",
       "tt0086190     63\n",
       "tt0071562     62\n",
       "tt2488496     61\n",
       "tt0058461     61\n",
       "tt0064116     60\n",
       "tt0068646     59\n",
       "tt0080339     59\n",
       "tt0082971     59\n",
       "tt0044706     58\n",
       "tt0111161     58\n",
       "tt0052357     57\n",
       "tt0245429     57\n",
       "tt0047478     57\n",
       "tt0096874     57\n",
       "tt0367882     57\n",
       "tt0028950     57\n",
       "tt0064208     56\n",
       "tt0047396     56\n",
       "tt0073195     56\n",
       "            ... \n",
       "tt1604408      1\n",
       "tt6025896      1\n",
       "tt0745627      1\n",
       "tt4866710      1\n",
       "tt6760312      1\n",
       "tt3788922      1\n",
       "tt0044678      1\n",
       "tt0907126      1\n",
       "tt3632686      1\n",
       "tt0590394      1\n",
       "tt5424634      1\n",
       "tt2110365      1\n",
       "tt3825272      1\n",
       "tt7283236      1\n",
       "tt0286242      1\n",
       "tt7183820      1\n",
       "tt6750864      1\n",
       "tt0538874      1\n",
       "tt0995145      1\n",
       "tt1016822      1\n",
       "tt5901648      1\n",
       "tt2077325      1\n",
       "tt5054554      1\n",
       "tt7187408      1\n",
       "tt7148720      1\n",
       "tt1864082      1\n",
       "tt0977207      1\n",
       "tt2083219      1\n",
       "tt0725507      1\n",
       "tt0201856      1\n",
       "Name: titleId, Length: 2023643, dtype: int64"
      ]
     },
     "execution_count": 132,
     "metadata": {},
     "output_type": "execute_result"
    }
   ],
   "source": [
    "alsoKnownAs.titleId.value_counts(ascending=False)"
   ]
  },
  {
   "cell_type": "code",
   "execution_count": 47,
   "metadata": {},
   "outputs": [
    {
     "name": "stdout",
     "output_type": "stream",
     "text": [
      "<class 'pandas.core.frame.DataFrame'>\n",
      "RangeIndex: 3484661 entries, 0 to 3484660\n",
      "Data columns (total 8 columns):\n",
      "titleId            object\n",
      "ordering           int64\n",
      "title              object\n",
      "region             object\n",
      "language           object\n",
      "types              object\n",
      "attributes         object\n",
      "isOriginalTitle    object\n",
      "dtypes: int64(1), object(7)\n",
      "memory usage: 212.7+ MB\n"
     ]
    }
   ],
   "source": [
    "alsoKnownAs.info()"
   ]
  },
  {
   "cell_type": "code",
   "execution_count": 48,
   "metadata": {},
   "outputs": [
    {
     "data": {
      "text/html": [
       "<div>\n",
       "<style>\n",
       "    .dataframe thead tr:only-child th {\n",
       "        text-align: right;\n",
       "    }\n",
       "\n",
       "    .dataframe thead th {\n",
       "        text-align: left;\n",
       "    }\n",
       "\n",
       "    .dataframe tbody tr th {\n",
       "        vertical-align: top;\n",
       "    }\n",
       "</style>\n",
       "<table border=\"1\" class=\"dataframe\">\n",
       "  <thead>\n",
       "    <tr style=\"text-align: right;\">\n",
       "      <th></th>\n",
       "      <th>titleId</th>\n",
       "      <th>ordering</th>\n",
       "      <th>title</th>\n",
       "      <th>region</th>\n",
       "      <th>language</th>\n",
       "      <th>types</th>\n",
       "      <th>attributes</th>\n",
       "      <th>isOriginalTitle</th>\n",
       "    </tr>\n",
       "  </thead>\n",
       "  <tbody>\n",
       "    <tr>\n",
       "      <th>0</th>\n",
       "      <td>tt0000001</td>\n",
       "      <td>1</td>\n",
       "      <td>Carmencita - spanyol tánc</td>\n",
       "      <td>HU</td>\n",
       "      <td>\\N</td>\n",
       "      <td>imdbDisplay</td>\n",
       "      <td>\\N</td>\n",
       "      <td>0</td>\n",
       "    </tr>\n",
       "    <tr>\n",
       "      <th>1</th>\n",
       "      <td>tt0000001</td>\n",
       "      <td>2</td>\n",
       "      <td>Καρμενσίτα</td>\n",
       "      <td>GR</td>\n",
       "      <td>\\N</td>\n",
       "      <td>\\N</td>\n",
       "      <td>\\N</td>\n",
       "      <td>0</td>\n",
       "    </tr>\n",
       "    <tr>\n",
       "      <th>2</th>\n",
       "      <td>tt0000001</td>\n",
       "      <td>3</td>\n",
       "      <td>Карменсита</td>\n",
       "      <td>RU</td>\n",
       "      <td>\\N</td>\n",
       "      <td>\\N</td>\n",
       "      <td>\\N</td>\n",
       "      <td>0</td>\n",
       "    </tr>\n",
       "    <tr>\n",
       "      <th>3</th>\n",
       "      <td>tt0000001</td>\n",
       "      <td>4</td>\n",
       "      <td>Carmencita</td>\n",
       "      <td>US</td>\n",
       "      <td>\\N</td>\n",
       "      <td>\\N</td>\n",
       "      <td>\\N</td>\n",
       "      <td>0</td>\n",
       "    </tr>\n",
       "    <tr>\n",
       "      <th>4</th>\n",
       "      <td>tt0000001</td>\n",
       "      <td>5</td>\n",
       "      <td>Carmencita</td>\n",
       "      <td>\\N</td>\n",
       "      <td>\\N</td>\n",
       "      <td>original</td>\n",
       "      <td>\\N</td>\n",
       "      <td>1</td>\n",
       "    </tr>\n",
       "  </tbody>\n",
       "</table>\n",
       "</div>"
      ],
      "text/plain": [
       "     titleId  ordering                      title region language  \\\n",
       "0  tt0000001         1  Carmencita - spanyol tánc     HU       \\N   \n",
       "1  tt0000001         2                 Καρμενσίτα     GR       \\N   \n",
       "2  tt0000001         3                 Карменсита     RU       \\N   \n",
       "3  tt0000001         4                 Carmencita     US       \\N   \n",
       "4  tt0000001         5                 Carmencita     \\N       \\N   \n",
       "\n",
       "         types attributes isOriginalTitle  \n",
       "0  imdbDisplay         \\N               0  \n",
       "1           \\N         \\N               0  \n",
       "2           \\N         \\N               0  \n",
       "3           \\N         \\N               0  \n",
       "4     original         \\N               1  "
      ]
     },
     "execution_count": 48,
     "metadata": {},
     "output_type": "execute_result"
    }
   ],
   "source": [
    "alsoKnownAs.head()"
   ]
  },
  {
   "cell_type": "code",
   "execution_count": 49,
   "metadata": {},
   "outputs": [
    {
     "data": {
      "text/plain": [
       "2023643"
      ]
     },
     "execution_count": 49,
     "metadata": {},
     "output_type": "execute_result"
    }
   ],
   "source": [
    "alsoKnownAs['titleId'].nunique()"
   ]
  },
  {
   "cell_type": "code",
   "execution_count": 133,
   "metadata": {},
   "outputs": [
    {
     "data": {
      "text/plain": [
       "US      906267\n",
       "\\N      404744\n",
       "GB      253700\n",
       "FR      139897\n",
       "JP      115591\n",
       "ES      105772\n",
       "DE      103437\n",
       "XWW     101703\n",
       "CA       87597\n",
       "AR       81500\n",
       "IT       78541\n",
       "AU       73243\n",
       "BR       73243\n",
       "GR       63540\n",
       "FI       56416\n",
       "PT       51747\n",
       "HU       50524\n",
       "RU       45531\n",
       "IN       45248\n",
       "PL       43039\n",
       "SE       42271\n",
       "XWG      41967\n",
       "MX       41726\n",
       "DK       40529\n",
       "NL       27873\n",
       "TR       27175\n",
       "SUHH     23834\n",
       "BE       22870\n",
       "AT       19456\n",
       "BG       18861\n",
       "         ...  \n",
       "AQ           5\n",
       "TV           5\n",
       "CK           4\n",
       "AS           4\n",
       "SB           4\n",
       "XPI          4\n",
       "GF           4\n",
       "EH           3\n",
       "VA           3\n",
       "WF           3\n",
       "GD           3\n",
       "SC           3\n",
       "GQ           3\n",
       "XNA          2\n",
       "ZRCD         2\n",
       "JE           2\n",
       "WS           2\n",
       "SH           2\n",
       "MS           2\n",
       "ST           2\n",
       "KN           2\n",
       "KI           2\n",
       "NU           1\n",
       "XAU          1\n",
       "AI           1\n",
       "PW           1\n",
       "VG           1\n",
       "MP           1\n",
       "DJ           1\n",
       "NR           1\n",
       "Name: region, Length: 245, dtype: int64"
      ]
     },
     "execution_count": 133,
     "metadata": {},
     "output_type": "execute_result"
    }
   ],
   "source": [
    "alsoKnownAs['region'].value_counts()"
   ]
  },
  {
   "cell_type": "code",
   "execution_count": 134,
   "metadata": {},
   "outputs": [
    {
     "data": {
      "text/plain": [
       "\\N                  2550556\n",
       "imdbDisplay          427658\n",
       "original             356622\n",
       "alternative           52300\n",
       "working               39566\n",
       "dvd                   18617\n",
       "tv                    14578\n",
       "festival              12593\n",
       "video                 12149\n",
       "tv\u0002video                  6\n",
       "video\u0002working             5\n",
       "tv\u0002working                4\n",
       "dvd\u0002imdbDisplay           3\n",
       "festival\u0002working          2\n",
       "dvd\u0002working               1\n",
       "dvd\u0002video                 1\n",
       "Name: types, dtype: int64"
      ]
     },
     "execution_count": 134,
     "metadata": {},
     "output_type": "execute_result"
    }
   ],
   "source": [
    "alsoKnownAs['types'].value_counts()"
   ]
  },
  {
   "cell_type": "code",
   "execution_count": 135,
   "metadata": {},
   "outputs": [
    {
     "data": {
      "text/plain": [
       "\\N     3230043\n",
       "en      138519\n",
       "ru       21872\n",
       "fr       18854\n",
       "bg       17933\n",
       "tr       15479\n",
       "sv        6632\n",
       "he        5430\n",
       "qbn       4649\n",
       "sr        3430\n",
       "cmn       2952\n",
       "yue       2653\n",
       "ca        1838\n",
       "fa        1786\n",
       "hi        1424\n",
       "hr        1335\n",
       "es        1118\n",
       "tl         885\n",
       "cs         795\n",
       "de         785\n",
       "sl         723\n",
       "ar         537\n",
       "nl         536\n",
       "qbp        496\n",
       "ta         496\n",
       "ml         475\n",
       "te         329\n",
       "sk         228\n",
       "bn         224\n",
       "ur         223\n",
       "        ...   \n",
       "da          10\n",
       "no           7\n",
       "gd           6\n",
       "ps           5\n",
       "uz           5\n",
       "xh           5\n",
       "mi           4\n",
       "vi           4\n",
       "sd           3\n",
       "st           3\n",
       "kk           3\n",
       "be           2\n",
       "is           2\n",
       "ko           2\n",
       "wo           2\n",
       "zh           2\n",
       "tg           2\n",
       "tn           2\n",
       "ku           1\n",
       "goh          1\n",
       "rm           1\n",
       "prs          1\n",
       "rn           1\n",
       "sq           1\n",
       "fro          1\n",
       "myv          1\n",
       "nqo          1\n",
       "iu           1\n",
       "cr           1\n",
       "ky           1\n",
       "Name: language, Length: 95, dtype: int64"
      ]
     },
     "execution_count": 135,
     "metadata": {},
     "output_type": "execute_result"
    }
   ],
   "source": [
    "alsoKnownAs['language'].value_counts()"
   ]
  },
  {
   "cell_type": "code",
   "execution_count": 57,
   "metadata": {
    "collapsed": true
   },
   "outputs": [],
   "source": [
    "data1 = pd.read_csv('title.episode.tsv',sep='\\t')"
   ]
  },
  {
   "cell_type": "code",
   "execution_count": 58,
   "metadata": {
    "collapsed": true
   },
   "outputs": [],
   "source": [
    "episodes = data1"
   ]
  },
  {
   "cell_type": "code",
   "execution_count": 59,
   "metadata": {},
   "outputs": [
    {
     "name": "stdout",
     "output_type": "stream",
     "text": [
      "<class 'pandas.core.frame.DataFrame'>\n",
      "RangeIndex: 3874634 entries, 0 to 3874633\n",
      "Data columns (total 4 columns):\n",
      "tconst           object\n",
      "parentTconst     object\n",
      "seasonNumber     object\n",
      "episodeNumber    object\n",
      "dtypes: object(4)\n",
      "memory usage: 118.2+ MB\n"
     ]
    }
   ],
   "source": [
    "episodes.info()"
   ]
  },
  {
   "cell_type": "code",
   "execution_count": 60,
   "metadata": {},
   "outputs": [
    {
     "data": {
      "text/html": [
       "<div>\n",
       "<style>\n",
       "    .dataframe thead tr:only-child th {\n",
       "        text-align: right;\n",
       "    }\n",
       "\n",
       "    .dataframe thead th {\n",
       "        text-align: left;\n",
       "    }\n",
       "\n",
       "    .dataframe tbody tr th {\n",
       "        vertical-align: top;\n",
       "    }\n",
       "</style>\n",
       "<table border=\"1\" class=\"dataframe\">\n",
       "  <thead>\n",
       "    <tr style=\"text-align: right;\">\n",
       "      <th></th>\n",
       "      <th>tconst</th>\n",
       "      <th>parentTconst</th>\n",
       "      <th>seasonNumber</th>\n",
       "      <th>episodeNumber</th>\n",
       "    </tr>\n",
       "  </thead>\n",
       "  <tbody>\n",
       "    <tr>\n",
       "      <th>0</th>\n",
       "      <td>tt0041951</td>\n",
       "      <td>tt0041038</td>\n",
       "      <td>1</td>\n",
       "      <td>9</td>\n",
       "    </tr>\n",
       "    <tr>\n",
       "      <th>1</th>\n",
       "      <td>tt0042816</td>\n",
       "      <td>tt0989125</td>\n",
       "      <td>1</td>\n",
       "      <td>17</td>\n",
       "    </tr>\n",
       "    <tr>\n",
       "      <th>2</th>\n",
       "      <td>tt0042889</td>\n",
       "      <td>tt0989125</td>\n",
       "      <td>\\N</td>\n",
       "      <td>\\N</td>\n",
       "    </tr>\n",
       "    <tr>\n",
       "      <th>3</th>\n",
       "      <td>tt0043426</td>\n",
       "      <td>tt0040051</td>\n",
       "      <td>3</td>\n",
       "      <td>42</td>\n",
       "    </tr>\n",
       "    <tr>\n",
       "      <th>4</th>\n",
       "      <td>tt0043631</td>\n",
       "      <td>tt0989125</td>\n",
       "      <td>2</td>\n",
       "      <td>16</td>\n",
       "    </tr>\n",
       "  </tbody>\n",
       "</table>\n",
       "</div>"
      ],
      "text/plain": [
       "      tconst parentTconst seasonNumber episodeNumber\n",
       "0  tt0041951    tt0041038            1             9\n",
       "1  tt0042816    tt0989125            1            17\n",
       "2  tt0042889    tt0989125           \\N            \\N\n",
       "3  tt0043426    tt0040051            3            42\n",
       "4  tt0043631    tt0989125            2            16"
      ]
     },
     "execution_count": 60,
     "metadata": {},
     "output_type": "execute_result"
    }
   ],
   "source": [
    "episodes.head()"
   ]
  },
  {
   "cell_type": "code",
   "execution_count": 71,
   "metadata": {},
   "outputs": [
    {
     "data": {
      "text/plain": [
       "parentTconst\n",
       "tt0038276       1\n",
       "tt0039122       5\n",
       "tt0039123     587\n",
       "tt0039125      12\n",
       "tt0040021      65\n",
       "tt0040027       2\n",
       "tt0040028      14\n",
       "tt0040030       1\n",
       "tt0040032       1\n",
       "tt0040033       4\n",
       "tt0040034       4\n",
       "tt0040036      82\n",
       "tt0040038       1\n",
       "tt0040039      10\n",
       "tt0040040       1\n",
       "tt0040041     261\n",
       "tt0040042      78\n",
       "tt0040045       4\n",
       "tt0040048    1003\n",
       "tt0040049     266\n",
       "tt0040051     467\n",
       "tt0040052       2\n",
       "tt0040053    1070\n",
       "tt0040055       1\n",
       "tt0040057      21\n",
       "tt0040058       1\n",
       "tt0040993      18\n",
       "tt0040994      23\n",
       "tt0040995       1\n",
       "tt0040997       1\n",
       "             ... \n",
       "tt9741848       1\n",
       "tt9742390      53\n",
       "tt9742810      26\n",
       "tt9742936       1\n",
       "tt9743578       2\n",
       "tt9743630       4\n",
       "tt9744774       1\n",
       "tt9745284       5\n",
       "tt9747398      21\n",
       "tt9747414       2\n",
       "tt9748016       4\n",
       "tt9748396       5\n",
       "tt9748472       2\n",
       "tt9748820       3\n",
       "tt9749192      19\n",
       "tt9749378      13\n",
       "tt9749744       3\n",
       "tt9749918       1\n",
       "tt9749982       3\n",
       "tt9750148       5\n",
       "tt9751532       1\n",
       "tt9753030      12\n",
       "tt9753256       1\n",
       "tt9755000       2\n",
       "tt9755726       8\n",
       "tt9755748       5\n",
       "tt9756050      10\n",
       "tt9757482       1\n",
       "tt9758034      18\n",
       "tt9758080       3\n",
       "Name: tconst, Length: 117615, dtype: int64"
      ]
     },
     "execution_count": 71,
     "metadata": {},
     "output_type": "execute_result"
    }
   ],
   "source": [
    "episodes.groupby(['parentTconst'])['tconst'].count()"
   ]
  },
  {
   "cell_type": "code",
   "execution_count": 78,
   "metadata": {},
   "outputs": [
    {
     "data": {
      "text/html": [
       "<div>\n",
       "<style>\n",
       "    .dataframe thead tr:only-child th {\n",
       "        text-align: right;\n",
       "    }\n",
       "\n",
       "    .dataframe thead th {\n",
       "        text-align: left;\n",
       "    }\n",
       "\n",
       "    .dataframe tbody tr th {\n",
       "        vertical-align: top;\n",
       "    }\n",
       "</style>\n",
       "<table border=\"1\" class=\"dataframe\">\n",
       "  <thead>\n",
       "    <tr style=\"text-align: right;\">\n",
       "      <th></th>\n",
       "      <th>tconst</th>\n",
       "      <th>parentTconst</th>\n",
       "      <th>seasonNumber</th>\n",
       "      <th>episodeNumber</th>\n",
       "    </tr>\n",
       "  </thead>\n",
       "  <tbody>\n",
       "    <tr>\n",
       "      <th>3874066</th>\n",
       "      <td>tt9758294</td>\n",
       "      <td>tt9758034</td>\n",
       "      <td>1</td>\n",
       "      <td>1</td>\n",
       "    </tr>\n",
       "    <tr>\n",
       "      <th>3874072</th>\n",
       "      <td>tt9758306</td>\n",
       "      <td>tt9758034</td>\n",
       "      <td>1</td>\n",
       "      <td>2</td>\n",
       "    </tr>\n",
       "    <tr>\n",
       "      <th>3874081</th>\n",
       "      <td>tt9758326</td>\n",
       "      <td>tt9758034</td>\n",
       "      <td>1</td>\n",
       "      <td>3</td>\n",
       "    </tr>\n",
       "    <tr>\n",
       "      <th>3874086</th>\n",
       "      <td>tt9758336</td>\n",
       "      <td>tt9758034</td>\n",
       "      <td>1</td>\n",
       "      <td>4</td>\n",
       "    </tr>\n",
       "    <tr>\n",
       "      <th>3874097</th>\n",
       "      <td>tt9758360</td>\n",
       "      <td>tt9758034</td>\n",
       "      <td>1</td>\n",
       "      <td>5</td>\n",
       "    </tr>\n",
       "    <tr>\n",
       "      <th>3874102</th>\n",
       "      <td>tt9758370</td>\n",
       "      <td>tt9758034</td>\n",
       "      <td>1</td>\n",
       "      <td>6</td>\n",
       "    </tr>\n",
       "    <tr>\n",
       "      <th>3874108</th>\n",
       "      <td>tt9758384</td>\n",
       "      <td>tt9758034</td>\n",
       "      <td>1</td>\n",
       "      <td>7</td>\n",
       "    </tr>\n",
       "    <tr>\n",
       "      <th>3874111</th>\n",
       "      <td>tt9758392</td>\n",
       "      <td>tt9758034</td>\n",
       "      <td>1</td>\n",
       "      <td>8</td>\n",
       "    </tr>\n",
       "    <tr>\n",
       "      <th>3874116</th>\n",
       "      <td>tt9758402</td>\n",
       "      <td>tt9758034</td>\n",
       "      <td>1</td>\n",
       "      <td>9</td>\n",
       "    </tr>\n",
       "    <tr>\n",
       "      <th>3874120</th>\n",
       "      <td>tt9758412</td>\n",
       "      <td>tt9758034</td>\n",
       "      <td>1</td>\n",
       "      <td>10</td>\n",
       "    </tr>\n",
       "    <tr>\n",
       "      <th>3874122</th>\n",
       "      <td>tt9758416</td>\n",
       "      <td>tt9758034</td>\n",
       "      <td>1</td>\n",
       "      <td>11</td>\n",
       "    </tr>\n",
       "    <tr>\n",
       "      <th>3874123</th>\n",
       "      <td>tt9758418</td>\n",
       "      <td>tt9758034</td>\n",
       "      <td>1</td>\n",
       "      <td>12</td>\n",
       "    </tr>\n",
       "    <tr>\n",
       "      <th>3874125</th>\n",
       "      <td>tt9758422</td>\n",
       "      <td>tt9758034</td>\n",
       "      <td>1</td>\n",
       "      <td>13</td>\n",
       "    </tr>\n",
       "    <tr>\n",
       "      <th>3874128</th>\n",
       "      <td>tt9758428</td>\n",
       "      <td>tt9758034</td>\n",
       "      <td>1</td>\n",
       "      <td>14</td>\n",
       "    </tr>\n",
       "    <tr>\n",
       "      <th>3874129</th>\n",
       "      <td>tt9758430</td>\n",
       "      <td>tt9758034</td>\n",
       "      <td>1</td>\n",
       "      <td>15</td>\n",
       "    </tr>\n",
       "    <tr>\n",
       "      <th>3874131</th>\n",
       "      <td>tt9758434</td>\n",
       "      <td>tt9758034</td>\n",
       "      <td>1</td>\n",
       "      <td>16</td>\n",
       "    </tr>\n",
       "    <tr>\n",
       "      <th>3874133</th>\n",
       "      <td>tt9758438</td>\n",
       "      <td>tt9758034</td>\n",
       "      <td>1</td>\n",
       "      <td>17</td>\n",
       "    </tr>\n",
       "    <tr>\n",
       "      <th>3874135</th>\n",
       "      <td>tt9758442</td>\n",
       "      <td>tt9758034</td>\n",
       "      <td>1</td>\n",
       "      <td>18</td>\n",
       "    </tr>\n",
       "  </tbody>\n",
       "</table>\n",
       "</div>"
      ],
      "text/plain": [
       "            tconst parentTconst seasonNumber episodeNumber\n",
       "3874066  tt9758294    tt9758034            1             1\n",
       "3874072  tt9758306    tt9758034            1             2\n",
       "3874081  tt9758326    tt9758034            1             3\n",
       "3874086  tt9758336    tt9758034            1             4\n",
       "3874097  tt9758360    tt9758034            1             5\n",
       "3874102  tt9758370    tt9758034            1             6\n",
       "3874108  tt9758384    tt9758034            1             7\n",
       "3874111  tt9758392    tt9758034            1             8\n",
       "3874116  tt9758402    tt9758034            1             9\n",
       "3874120  tt9758412    tt9758034            1            10\n",
       "3874122  tt9758416    tt9758034            1            11\n",
       "3874123  tt9758418    tt9758034            1            12\n",
       "3874125  tt9758422    tt9758034            1            13\n",
       "3874128  tt9758428    tt9758034            1            14\n",
       "3874129  tt9758430    tt9758034            1            15\n",
       "3874131  tt9758434    tt9758034            1            16\n",
       "3874133  tt9758438    tt9758034            1            17\n",
       "3874135  tt9758442    tt9758034            1            18"
      ]
     },
     "execution_count": 78,
     "metadata": {},
     "output_type": "execute_result"
    }
   ],
   "source": [
    "episodes[episodes.parentTconst == 'tt9758034']"
   ]
  },
  {
   "cell_type": "code",
   "execution_count": 88,
   "metadata": {},
   "outputs": [
    {
     "name": "stdout",
     "output_type": "stream",
     "text": [
      "<class 'pandas.core.frame.DataFrame'>\n",
      "Int64Index: 60983 entries, 19682 to 916396\n",
      "Data columns (total 3 columns):\n",
      "tconst           60983 non-null object\n",
      "averageRating    60983 non-null float64\n",
      "numVotes         60983 non-null int64\n",
      "dtypes: float64(1), int64(1), object(1)\n",
      "memory usage: 1.9+ MB\n"
     ]
    }
   ],
   "source": [
    "ratings[ratings.tconst.isin(episodes.parentTconst.unique())].info()"
   ]
  },
  {
   "cell_type": "code",
   "execution_count": 92,
   "metadata": {},
   "outputs": [
    {
     "data": {
      "text/plain": [
       "tt0058796    10541\n",
       "tt0053494     9667\n",
       "tt1985601     9502\n",
       "tt0088580     8911\n",
       "tt0068120     8697\n",
       "tt0283794     8651\n",
       "tt0283767     8104\n",
       "tt0159881     7859\n",
       "tt0092325     7636\n",
       "tt0088512     7633\n",
       "tt0094481     7081\n",
       "tt0072584     6795\n",
       "tt0055708     6746\n",
       "tt0103434     6695\n",
       "tt0068069     6420\n",
       "tt0069658     6353\n",
       "tt0108977     6043\n",
       "tt0096597     5903\n",
       "tt0056758     5870\n",
       "tt0138228     5584\n",
       "tt0371487     5186\n",
       "tt0108979     4664\n",
       "tt0103569     4656\n",
       "tt1152300     4601\n",
       "tt6769314     4601\n",
       "tt0057741     4443\n",
       "tt0106053     4238\n",
       "tt0170980     4069\n",
       "tt0044298     4052\n",
       "tt2070564     3978\n",
       "             ...  \n",
       "tt2731560        1\n",
       "tt6113146        1\n",
       "tt5766950        1\n",
       "tt7654048        1\n",
       "tt3668324        1\n",
       "tt6539592        1\n",
       "tt4636670        1\n",
       "tt6233072        1\n",
       "tt7166874        1\n",
       "tt6815958        1\n",
       "tt9071112        1\n",
       "tt5872906        1\n",
       "tt2492910        1\n",
       "tt7707776        1\n",
       "tt3771468        1\n",
       "tt6257772        1\n",
       "tt2300026        1\n",
       "tt5092982        1\n",
       "tt4519414        1\n",
       "tt0268817        1\n",
       "tt4549714        1\n",
       "tt0279574        1\n",
       "tt1606491        1\n",
       "tt0450215        1\n",
       "tt5631642        1\n",
       "tt0368538        1\n",
       "tt6218894        1\n",
       "tt5052532        1\n",
       "tt8661876        1\n",
       "tt0773258        1\n",
       "Name: parentTconst, Length: 117615, dtype: int64"
      ]
     },
     "execution_count": 92,
     "metadata": {},
     "output_type": "execute_result"
    }
   ],
   "source": [
    "episodes.parentTconst.value_counts(ascending=False)"
   ]
  },
  {
   "cell_type": "code",
   "execution_count": null,
   "metadata": {
    "collapsed": true
   },
   "outputs": [],
   "source": []
  }
 ],
 "metadata": {
  "kernelspec": {
   "display_name": "Python 3",
   "language": "python",
   "name": "python3"
  },
  "language_info": {
   "codemirror_mode": {
    "name": "ipython",
    "version": 3
   },
   "file_extension": ".py",
   "mimetype": "text/x-python",
   "name": "python",
   "nbconvert_exporter": "python",
   "pygments_lexer": "ipython3",
   "version": "3.6.3"
  }
 },
 "nbformat": 4,
 "nbformat_minor": 2
}
